{
 "cells": [
  {
   "cell_type": "code",
   "execution_count": 15,
   "id": "91332e86",
   "metadata": {
    "collapsed": true
   },
   "outputs": [
    {
     "name": "stdout",
     "output_type": "stream",
     "text": [
      "Requirement already satisfied: google.cloud.bigquery in /Users/gabidoye/opt/anaconda3/lib/python3.9/site-packages (2.32.0)\n",
      "Requirement already satisfied: google-resumable-media<3.0dev,>=0.6.0 in /Users/gabidoye/opt/anaconda3/lib/python3.9/site-packages (from google.cloud.bigquery) (2.1.0)\n",
      "Requirement already satisfied: requests<3.0.0dev,>=2.18.0 in /Users/gabidoye/opt/anaconda3/lib/python3.9/site-packages (from google.cloud.bigquery) (2.26.0)\n",
      "Requirement already satisfied: grpcio<2.0dev,>=1.38.1 in /Users/gabidoye/opt/anaconda3/lib/python3.9/site-packages (from google.cloud.bigquery) (1.43.0)\n",
      "Requirement already satisfied: proto-plus>=1.10.0 in /Users/gabidoye/opt/anaconda3/lib/python3.9/site-packages (from google.cloud.bigquery) (1.19.9)\n",
      "Requirement already satisfied: protobuf>=3.12.0 in /Users/gabidoye/opt/anaconda3/lib/python3.9/site-packages (from google.cloud.bigquery) (3.19.3)\n",
      "Requirement already satisfied: packaging>=14.3 in /Users/gabidoye/opt/anaconda3/lib/python3.9/site-packages (from google.cloud.bigquery) (21.0)\n",
      "Requirement already satisfied: google-api-core[grpc]<3.0.0dev,>=1.29.0 in /Users/gabidoye/opt/anaconda3/lib/python3.9/site-packages (from google.cloud.bigquery) (2.4.0)\n",
      "Requirement already satisfied: google-cloud-core<3.0.0dev,>=1.4.1 in /Users/gabidoye/opt/anaconda3/lib/python3.9/site-packages (from google.cloud.bigquery) (2.2.2)\n",
      "Requirement already satisfied: python-dateutil<3.0dev,>=2.7.2 in /Users/gabidoye/opt/anaconda3/lib/python3.9/site-packages (from google.cloud.bigquery) (2.8.2)\n",
      "Requirement already satisfied: setuptools>=40.3.0 in /Users/gabidoye/opt/anaconda3/lib/python3.9/site-packages (from google-api-core[grpc]<3.0.0dev,>=1.29.0->google.cloud.bigquery) (58.0.4)\n",
      "Requirement already satisfied: googleapis-common-protos<2.0dev,>=1.52.0 in /Users/gabidoye/opt/anaconda3/lib/python3.9/site-packages (from google-api-core[grpc]<3.0.0dev,>=1.29.0->google.cloud.bigquery) (1.54.0)\n",
      "Requirement already satisfied: google-auth<3.0dev,>=1.25.0 in /Users/gabidoye/opt/anaconda3/lib/python3.9/site-packages (from google-api-core[grpc]<3.0.0dev,>=1.29.0->google.cloud.bigquery) (2.5.0)\n",
      "Requirement already satisfied: grpcio-status<2.0dev,>=1.33.2 in /Users/gabidoye/opt/anaconda3/lib/python3.9/site-packages (from google-api-core[grpc]<3.0.0dev,>=1.29.0->google.cloud.bigquery) (1.43.0)\n",
      "Requirement already satisfied: pyasn1-modules>=0.2.1 in /Users/gabidoye/opt/anaconda3/lib/python3.9/site-packages (from google-auth<3.0dev,>=1.25.0->google-api-core[grpc]<3.0.0dev,>=1.29.0->google.cloud.bigquery) (0.2.8)\n",
      "Requirement already satisfied: rsa<5,>=3.1.4 in /Users/gabidoye/opt/anaconda3/lib/python3.9/site-packages (from google-auth<3.0dev,>=1.25.0->google-api-core[grpc]<3.0.0dev,>=1.29.0->google.cloud.bigquery) (4.8)\n",
      "Requirement already satisfied: cachetools<6.0,>=2.0.0 in /Users/gabidoye/opt/anaconda3/lib/python3.9/site-packages (from google-auth<3.0dev,>=1.25.0->google-api-core[grpc]<3.0.0dev,>=1.29.0->google.cloud.bigquery) (5.0.0)\n",
      "Requirement already satisfied: six>=1.9.0 in /Users/gabidoye/opt/anaconda3/lib/python3.9/site-packages (from google-auth<3.0dev,>=1.25.0->google-api-core[grpc]<3.0.0dev,>=1.29.0->google.cloud.bigquery) (1.16.0)\n",
      "Requirement already satisfied: google-crc32c<2.0dev,>=1.0 in /Users/gabidoye/opt/anaconda3/lib/python3.9/site-packages (from google-resumable-media<3.0dev,>=0.6.0->google.cloud.bigquery) (1.3.0)\n",
      "Requirement already satisfied: pyparsing>=2.0.2 in /Users/gabidoye/opt/anaconda3/lib/python3.9/site-packages (from packaging>=14.3->google.cloud.bigquery) (3.0.4)\n",
      "Requirement already satisfied: pyasn1<0.5.0,>=0.4.6 in /Users/gabidoye/opt/anaconda3/lib/python3.9/site-packages (from pyasn1-modules>=0.2.1->google-auth<3.0dev,>=1.25.0->google-api-core[grpc]<3.0.0dev,>=1.29.0->google.cloud.bigquery) (0.4.8)\n",
      "Requirement already satisfied: charset-normalizer~=2.0.0 in /Users/gabidoye/opt/anaconda3/lib/python3.9/site-packages (from requests<3.0.0dev,>=2.18.0->google.cloud.bigquery) (2.0.4)\n",
      "Requirement already satisfied: urllib3<1.27,>=1.21.1 in /Users/gabidoye/opt/anaconda3/lib/python3.9/site-packages (from requests<3.0.0dev,>=2.18.0->google.cloud.bigquery) (1.26.7)\n",
      "Requirement already satisfied: idna<4,>=2.5 in /Users/gabidoye/opt/anaconda3/lib/python3.9/site-packages (from requests<3.0.0dev,>=2.18.0->google.cloud.bigquery) (3.2)\n",
      "Requirement already satisfied: certifi>=2017.4.17 in /Users/gabidoye/opt/anaconda3/lib/python3.9/site-packages (from requests<3.0.0dev,>=2.18.0->google.cloud.bigquery) (2021.10.8)\n",
      "Requirement already satisfied: google.cloud.storage in /Users/gabidoye/opt/anaconda3/lib/python3.9/site-packages (2.1.0)\n",
      "Requirement already satisfied: google-cloud-core<3.0dev,>=1.6.0 in /Users/gabidoye/opt/anaconda3/lib/python3.9/site-packages (from google.cloud.storage) (2.2.2)\n",
      "Requirement already satisfied: protobuf in /Users/gabidoye/opt/anaconda3/lib/python3.9/site-packages (from google.cloud.storage) (3.19.3)\n",
      "Requirement already satisfied: requests<3.0.0dev,>=2.18.0 in /Users/gabidoye/opt/anaconda3/lib/python3.9/site-packages (from google.cloud.storage) (2.26.0)\n",
      "Requirement already satisfied: google-api-core<3.0dev,>=1.29.0 in /Users/gabidoye/opt/anaconda3/lib/python3.9/site-packages (from google.cloud.storage) (2.4.0)\n",
      "Requirement already satisfied: google-auth<3.0dev,>=1.25.0 in /Users/gabidoye/opt/anaconda3/lib/python3.9/site-packages (from google.cloud.storage) (2.5.0)\n",
      "Requirement already satisfied: google-resumable-media>=1.3.0 in /Users/gabidoye/opt/anaconda3/lib/python3.9/site-packages (from google.cloud.storage) (2.1.0)\n",
      "Requirement already satisfied: setuptools>=40.3.0 in /Users/gabidoye/opt/anaconda3/lib/python3.9/site-packages (from google-api-core<3.0dev,>=1.29.0->google.cloud.storage) (58.0.4)\n",
      "Requirement already satisfied: googleapis-common-protos<2.0dev,>=1.52.0 in /Users/gabidoye/opt/anaconda3/lib/python3.9/site-packages (from google-api-core<3.0dev,>=1.29.0->google.cloud.storage) (1.54.0)\n",
      "Requirement already satisfied: pyasn1-modules>=0.2.1 in /Users/gabidoye/opt/anaconda3/lib/python3.9/site-packages (from google-auth<3.0dev,>=1.25.0->google.cloud.storage) (0.2.8)\n",
      "Requirement already satisfied: rsa<5,>=3.1.4 in /Users/gabidoye/opt/anaconda3/lib/python3.9/site-packages (from google-auth<3.0dev,>=1.25.0->google.cloud.storage) (4.8)\n",
      "Requirement already satisfied: six>=1.9.0 in /Users/gabidoye/opt/anaconda3/lib/python3.9/site-packages (from google-auth<3.0dev,>=1.25.0->google.cloud.storage) (1.16.0)\n",
      "Requirement already satisfied: cachetools<6.0,>=2.0.0 in /Users/gabidoye/opt/anaconda3/lib/python3.9/site-packages (from google-auth<3.0dev,>=1.25.0->google.cloud.storage) (5.0.0)\n",
      "Requirement already satisfied: google-crc32c<2.0dev,>=1.0 in /Users/gabidoye/opt/anaconda3/lib/python3.9/site-packages (from google-resumable-media>=1.3.0->google.cloud.storage) (1.3.0)\n",
      "Requirement already satisfied: pyasn1<0.5.0,>=0.4.6 in /Users/gabidoye/opt/anaconda3/lib/python3.9/site-packages (from pyasn1-modules>=0.2.1->google-auth<3.0dev,>=1.25.0->google.cloud.storage) (0.4.8)\n",
      "Requirement already satisfied: charset-normalizer~=2.0.0 in /Users/gabidoye/opt/anaconda3/lib/python3.9/site-packages (from requests<3.0.0dev,>=2.18.0->google.cloud.storage) (2.0.4)\n",
      "Requirement already satisfied: idna<4,>=2.5 in /Users/gabidoye/opt/anaconda3/lib/python3.9/site-packages (from requests<3.0.0dev,>=2.18.0->google.cloud.storage) (3.2)\n",
      "Requirement already satisfied: certifi>=2017.4.17 in /Users/gabidoye/opt/anaconda3/lib/python3.9/site-packages (from requests<3.0.0dev,>=2.18.0->google.cloud.storage) (2021.10.8)\n",
      "Requirement already satisfied: urllib3<1.27,>=1.21.1 in /Users/gabidoye/opt/anaconda3/lib/python3.9/site-packages (from requests<3.0.0dev,>=2.18.0->google.cloud.storage) (1.26.7)\n",
      "Collecting fastparquet\n",
      "  Downloading fastparquet-0.7.2-cp39-cp39-macosx_10_9_x86_64.whl (525 kB)\n",
      "\u001b[K     |████████████████████████████████| 525 kB 2.5 MB/s eta 0:00:01\n",
      "\u001b[?25hCollecting cramjam>=2.3.0\n",
      "  Downloading cramjam-2.5.0-cp39-cp39-macosx_10_9_x86_64.macosx_11_0_arm64.macosx_10_9_universal2.whl (2.7 MB)\n",
      "\u001b[K     |████████████████████████████████| 2.7 MB 47.1 MB/s eta 0:00:01\n",
      "\u001b[?25hCollecting thrift>=0.11.0\n",
      "  Downloading thrift-0.15.0.tar.gz (59 kB)\n",
      "\u001b[K     |████████████████████████████████| 59 kB 32.5 MB/s eta 0:00:01\n"
     ]
    },
    {
     "name": "stdout",
     "output_type": "stream",
     "text": [
      "\u001b[?25hRequirement already satisfied: fsspec in /Users/gabidoye/opt/anaconda3/lib/python3.9/site-packages (from fastparquet) (2021.8.1)\n",
      "Requirement already satisfied: numpy>=1.18 in /Users/gabidoye/opt/anaconda3/lib/python3.9/site-packages (from fastparquet) (1.20.3)\n",
      "Requirement already satisfied: pandas>=1.1.0 in /Users/gabidoye/opt/anaconda3/lib/python3.9/site-packages (from fastparquet) (1.3.4)\n",
      "Requirement already satisfied: python-dateutil>=2.7.3 in /Users/gabidoye/opt/anaconda3/lib/python3.9/site-packages (from pandas>=1.1.0->fastparquet) (2.8.2)\n",
      "Requirement already satisfied: pytz>=2017.3 in /Users/gabidoye/opt/anaconda3/lib/python3.9/site-packages (from pandas>=1.1.0->fastparquet) (2021.3)\n",
      "Requirement already satisfied: six>=1.5 in /Users/gabidoye/opt/anaconda3/lib/python3.9/site-packages (from python-dateutil>=2.7.3->pandas>=1.1.0->fastparquet) (1.16.0)\n",
      "Building wheels for collected packages: thrift\n",
      "  Building wheel for thrift (setup.py) ... \u001b[?25ldone\n",
      "\u001b[?25h  Created wheel for thrift: filename=thrift-0.15.0-cp39-cp39-macosx_10_9_x86_64.whl size=175359 sha256=032050aae0b8b28b1343e7ccc2815ad7585770794c4685147d31eb18682e3629\n",
      "  Stored in directory: /Users/gabidoye/Library/Caches/pip/wheels/00/41/cd/f65d329f7cc147ce79cc833b11b94f7bea7329df0ad9d81629\n",
      "Successfully built thrift\n",
      "Installing collected packages: thrift, cramjam, fastparquet\n",
      "Successfully installed cramjam-2.5.0 fastparquet-0.7.2 thrift-0.15.0\n"
     ]
    }
   ],
   "source": [
    "!pip install google.cloud.bigquery\n",
    "!pip install google.cloud.storage\n",
    "!pip install fastparquet"
   ]
  },
  {
   "cell_type": "code",
   "execution_count": 7,
   "id": "7c4bed22",
   "metadata": {},
   "outputs": [],
   "source": [
    "from google.cloud import storage\n",
    "import os\n",
    "import pandas as pd"
   ]
  },
  {
   "cell_type": "code",
   "execution_count": 11,
   "id": "74628532",
   "metadata": {},
   "outputs": [
    {
     "name": "stderr",
     "output_type": "stream",
     "text": [
      "/Users/gabidoye/opt/anaconda3/lib/python3.9/site-packages/IPython/core/interactiveshell.py:3444: DtypeWarning: Columns (6) have mixed types.Specify dtype option on import or set low_memory=False.\n",
      "  exec(code_obj, self.user_global_ns, self.user_ns)\n"
     ]
    }
   ],
   "source": [
    "\n",
    "df = pd.read_csv('yellow_tripdata_2021-01.csv')\n"
   ]
  },
  {
   "cell_type": "code",
   "execution_count": 23,
   "id": "d7f29ec9",
   "metadata": {
    "scrolled": true
   },
   "outputs": [],
   "source": [
    "# Only need this if you're running this code locally.\n",
    "os.environ['GOOGLE_APPLICATION_CREDENTIALS'] = r'/Users/gabidoye/Downloads/dataengineering-bizzy-770f13466383.json'\n",
    "\n",
    "#df = pd.read_csv('yellow_tripdata_2021-01.csv')\n",
    "#df2= df.to_parquet('yellow_tripdata_2021.parquet')\n",
    "\n",
    "client = storage.Client()\n",
    "bucket = client.get_bucket('dtc_data_lake_dataengineering-bizzy')\n",
    "    \n",
    "bucket.blob('yellow_tripdata_2021.parquet').upload_from_filename('yellow_tripdata_2021.parquet')"
   ]
  },
  {
   "cell_type": "code",
   "execution_count": 21,
   "id": "fa080512",
   "metadata": {},
   "outputs": [
    {
     "name": "stderr",
     "output_type": "stream",
     "text": [
      "/var/folders/rz/fm6f1m9d3d1_92kkr2jd0zfh0000gn/T/ipykernel_50260/1098121155.py:4: DtypeWarning: Columns (6) have mixed types.Specify dtype option on import or set low_memory=False.\n",
      "  write_parquet_file()\n"
     ]
    }
   ],
   "source": [
    "\n",
    "def write_parquet_file():\n",
    "    df = pd.read_csv('yellow_tripdata_2021-01.csv')\n",
    "    df.to_parquet('yellow_tripdata_2021-01.parquet')\n",
    "write_parquet_file()"
   ]
  },
  {
   "cell_type": "code",
   "execution_count": null,
   "id": "6e299522",
   "metadata": {},
   "outputs": [],
   "source": []
  },
  {
   "cell_type": "code",
   "execution_count": null,
   "id": "ec9fb4dd",
   "metadata": {},
   "outputs": [],
   "source": []
  }
 ],
 "metadata": {
  "kernelspec": {
   "display_name": "Python 3 (ipykernel)",
   "language": "python",
   "name": "python3"
  },
  "language_info": {
   "codemirror_mode": {
    "name": "ipython",
    "version": 3
   },
   "file_extension": ".py",
   "mimetype": "text/x-python",
   "name": "python",
   "nbconvert_exporter": "python",
   "pygments_lexer": "ipython3",
   "version": "3.9.7"
  }
 },
 "nbformat": 4,
 "nbformat_minor": 5
}
