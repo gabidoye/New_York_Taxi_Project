{
 "cells": [
  {
   "cell_type": "code",
   "execution_count": 220,
   "id": "38f9a181",
   "metadata": {},
   "outputs": [],
   "source": [
    "import pyspark\n",
    "from pyspark.sql import SparkSession\n",
    "import pandas as pd\n",
    "from pyspark.sql import types\n",
    "from pyspark.sql.functions import *"
   ]
  },
  {
   "cell_type": "code",
   "execution_count": 221,
   "id": "f057d005",
   "metadata": {},
   "outputs": [],
   "source": [
    "spark = SparkSession.builder \\\n",
    "    .master(\"local[*]\") \\\n",
    "    .appName('fhvtaxi') \\\n",
    "    .getOrCreate() \n",
    "    \n",
    "spark.sparkContext.setLogLevel(\"ERROR\")"
   ]
  },
  {
   "cell_type": "markdown",
   "id": "ed3683c0",
   "metadata": {},
   "source": [
    "### Question 1. Install Spark and PySpark###"
   ]
  },
  {
   "cell_type": "code",
   "execution_count": 222,
   "id": "efd4ec5f",
   "metadata": {},
   "outputs": [
    {
     "data": {
      "text/plain": [
       "'3.2.1'"
      ]
     },
     "execution_count": 222,
     "metadata": {},
     "output_type": "execute_result"
    }
   ],
   "source": [
    "spark.version"
   ]
  },
  {
   "cell_type": "code",
   "execution_count": 5,
   "id": "cf0956c1",
   "metadata": {},
   "outputs": [
    {
     "name": "stdout",
     "output_type": "stream",
     "text": [
      "--2022-02-22 20:11:52--  https://nyc-tlc.s3.amazonaws.com/trip+data/fhvhv_tripdata_2021-02.csv\n",
      "Resolving nyc-tlc.s3.amazonaws.com (nyc-tlc.s3.amazonaws.com)... 52.217.64.140\n",
      "Connecting to nyc-tlc.s3.amazonaws.com (nyc-tlc.s3.amazonaws.com)|52.217.64.140|:443... connected.\n",
      "HTTP request sent, awaiting response... 200 OK\n",
      "Length: 733822658 (700M) [text/csv]\n",
      "Saving to: ‘fhvhv_tripdata_2021-02.csv’\n",
      "\n",
      "fhvhv_tripdata_2021 100%[===================>] 699.83M  1.69MB/s    in 13m 0s  \n",
      "\n",
      "2022-02-22 20:24:53 (918 KB/s) - ‘fhvhv_tripdata_2021-02.csv’ saved [733822658/733822658]\n",
      "\n"
     ]
    }
   ],
   "source": [
    "!wget https://nyc-tlc.s3.amazonaws.com/trip+data/fhvhv_tripdata_2021-02.csv"
   ]
  },
  {
   "cell_type": "code",
   "execution_count": 18,
   "id": "d66a5fe7",
   "metadata": {},
   "outputs": [],
   "source": [
    "!head -n 100 fhvhv_tripdata_2021-02.csv > head.csv"
   ]
  },
  {
   "cell_type": "code",
   "execution_count": 20,
   "id": "08428ce4",
   "metadata": {},
   "outputs": [
    {
     "name": "stdout",
     "output_type": "stream",
     "text": [
      "     100 head.csv\r\n"
     ]
    }
   ],
   "source": [
    "!wc -l head.csv"
   ]
  },
  {
   "cell_type": "code",
   "execution_count": 33,
   "id": "64abaddb",
   "metadata": {},
   "outputs": [],
   "source": [
    "df_pandas = pd.read_csv('head.csv')"
   ]
  },
  {
   "cell_type": "code",
   "execution_count": 22,
   "id": "aa5d77c3",
   "metadata": {},
   "outputs": [
    {
     "data": {
      "text/plain": [
       "StructType(List(StructField(hvfhs_license_num,StringType,true),StructField(dispatching_base_num,StringType,true),StructField(pickup_datetime,StringType,true),StructField(dropoff_datetime,StringType,true),StructField(PULocationID,LongType,true),StructField(DOLocationID,LongType,true),StructField(SR_Flag,DoubleType,true)))"
      ]
     },
     "execution_count": 22,
     "metadata": {},
     "output_type": "execute_result"
    }
   ],
   "source": [
    "spark.createDataFrame(df_pandas).schema"
   ]
  },
  {
   "cell_type": "code",
   "execution_count": 80,
   "id": "f6b13559",
   "metadata": {},
   "outputs": [],
   "source": [
    "schema = types.StructType([\n",
    "    types.StructField('hvfhs_license_num', types.StringType(), True),\n",
    "    types.StructField('dispatching_base_num', types.StringType(), True),\n",
    "    types.StructField('pickup_datetime', types.TimestampType(), True),\n",
    "    types.StructField('dropoff_datetime', types.TimestampType(), True),\n",
    "    types.StructField('PULocationID', types.IntegerType(), True),\n",
    "    types.StructField('DOLocationID', types.IntegerType(), True),\n",
    "    types.StructField('SR_Flag', types.StringType(), True)\n",
    "])"
   ]
  },
  {
   "cell_type": "code",
   "execution_count": 24,
   "id": "feec9dee",
   "metadata": {},
   "outputs": [],
   "source": [
    "df = spark.read \\\n",
    "    .option(\"header\", \"true\") \\\n",
    "    .schema(schema) \\\n",
    "    .csv('fhvhv_tripdata_2021-02.csv')"
   ]
  },
  {
   "cell_type": "markdown",
   "id": "cc3cc125",
   "metadata": {},
   "source": [
    "### Question 2. HVFHW February 2021###"
   ]
  },
  {
   "cell_type": "code",
   "execution_count": 28,
   "id": "1d611934",
   "metadata": {},
   "outputs": [],
   "source": [
    "df = df.repartition(24)\n"
   ]
  },
  {
   "cell_type": "code",
   "execution_count": 29,
   "id": "27072a1b",
   "metadata": {},
   "outputs": [
    {
     "name": "stderr",
     "output_type": "stream",
     "text": [
      "                                                                                \r"
     ]
    }
   ],
   "source": [
    "df.write.parquet('fhvhv/2021/02/')"
   ]
  },
  {
   "cell_type": "code",
   "execution_count": 226,
   "id": "18872dff",
   "metadata": {},
   "outputs": [
    {
     "name": "stdout",
     "output_type": "stream",
     "text": [
      "207M\tfhvhv\r\n"
     ]
    }
   ],
   "source": [
    "#!ls -lrt\n",
    "!du -sh fhvhv"
   ]
  },
  {
   "cell_type": "code",
   "execution_count": 227,
   "id": "5983176a",
   "metadata": {},
   "outputs": [],
   "source": [
    "df= spark.read.parquet('fhvhv/2021/02/')"
   ]
  },
  {
   "cell_type": "code",
   "execution_count": 228,
   "id": "0eab13a3",
   "metadata": {},
   "outputs": [
    {
     "name": "stdout",
     "output_type": "stream",
     "text": [
      "+-----------------+--------------------+-------------------+-------------------+------------+------------+-------+\n",
      "|hvfhs_license_num|dispatching_base_num|    pickup_datetime|   dropoff_datetime|PULocationID|DOLocationID|SR_Flag|\n",
      "+-----------------+--------------------+-------------------+-------------------+------------+------------+-------+\n",
      "|           HV0003|              B02764|2021-02-02 22:33:30|2021-02-02 22:51:06|         192|          53|   null|\n",
      "|           HV0003|              B02876|2021-02-03 06:23:38|2021-02-03 06:43:30|         244|          50|   null|\n",
      "|           HV0005|              B02510|2021-02-03 17:17:27|2021-02-03 18:13:06|         132|         265|   null|\n",
      "|           HV0003|              B02877|2021-02-02 16:06:44|2021-02-02 16:32:44|         140|         160|   null|\n",
      "|           HV0003|              B02866|2021-02-04 14:16:27|2021-02-04 14:59:42|          68|          80|   null|\n",
      "+-----------------+--------------------+-------------------+-------------------+------------+------------+-------+\n",
      "only showing top 5 rows\n",
      "\n"
     ]
    }
   ],
   "source": [
    "df.show(n=5)"
   ]
  },
  {
   "cell_type": "markdown",
   "id": "a523f2ba",
   "metadata": {},
   "source": [
    "### Question 3. Count records ###"
   ]
  },
  {
   "cell_type": "code",
   "execution_count": 229,
   "id": "1d7698a2",
   "metadata": {},
   "outputs": [],
   "source": [
    " df_date= df \\\n",
    "    .withColumn(\"pickup_date\",to_date(\"pickup_datetime\"))"
   ]
  },
  {
   "cell_type": "code",
   "execution_count": 230,
   "id": "47900801",
   "metadata": {},
   "outputs": [
    {
     "name": "stdout",
     "output_type": "stream",
     "text": [
      "+-----------+------+\n",
      "|pickup_date| count|\n",
      "+-----------+------+\n",
      "| 2021-02-15|367170|\n",
      "+-----------+------+\n",
      "\n"
     ]
    },
    {
     "name": "stderr",
     "output_type": "stream",
     "text": [
      "\r",
      "[Stage 176:==================>                                     (4 + 8) / 12]\r",
      "\r",
      "                                                                                \r"
     ]
    }
   ],
   "source": [
    "df_date.groupBy(\"pickup_date\").count().filter(df_date.pickup_date =='2021-02-15').show()\n",
    "                                               "
   ]
  },
  {
   "cell_type": "markdown",
   "id": "9bafe095",
   "metadata": {},
   "source": [
    "### Question 4. Longest trip for each day ###"
   ]
  },
  {
   "cell_type": "markdown",
   "id": "3cf6f170",
   "metadata": {},
   "source": [
    "#Unix_timestamp approach\n",
    "#.withColumn('DiffInSecondsUnix',unix_timestamp(\"dropoff_datetime\") - unix_timestamp('pickup_datetime')) \\\n",
    "\n",
    "#cast to long approach converts to seconds"
   ]
  },
  {
   "cell_type": "code",
   "execution_count": 140,
   "id": "cce3a747",
   "metadata": {},
   "outputs": [],
   "source": [
    "\n",
    "df_sec= df_date.withColumn('DiffInSeconds', col('dropoff_datetime').cast(\"long\") - col('pickup_datetime').cast(\"long\"))\n",
    "    \n"
   ]
  },
  {
   "cell_type": "code",
   "execution_count": 141,
   "id": "eb7e27f9",
   "metadata": {},
   "outputs": [],
   "source": [
    "df_time= df_sec.withColumn('Time_Diff_MS',round(col('DiffInSeconds')/60,2))\n"
   ]
  },
  {
   "cell_type": "code",
   "execution_count": 149,
   "id": "b571eee1",
   "metadata": {},
   "outputs": [
    {
     "name": "stderr",
     "output_type": "stream",
     "text": [
      "\r",
      "[Stage 68:>                                                       (0 + 10) / 12]\r",
      "\r",
      "[Stage 68:==========================================>              (9 + 3) / 12]\r"
     ]
    },
    {
     "name": "stdout",
     "output_type": "stream",
     "text": [
      "+-----------+-------------------+-------------------+------------+\n",
      "|pickup_date|    pickup_datetime|   dropoff_datetime|Time_Diff_MS|\n",
      "+-----------+-------------------+-------------------+------------+\n",
      "| 2021-02-11|2021-02-11 13:40:44|2021-02-12 10:39:44|      1259.0|\n",
      "+-----------+-------------------+-------------------+------------+\n",
      "only showing top 1 row\n",
      "\n"
     ]
    },
    {
     "name": "stderr",
     "output_type": "stream",
     "text": [
      "\r",
      "                                                                                \r"
     ]
    }
   ],
   "source": [
    "df_time.select(\"pickup_date\",\"pickup_datetime\", \"dropoff_datetime\", \"Time_Diff_MS\") \\\n",
    "        .orderBy('Time_Diff_MS', ascending=False).show(1)\n"
   ]
  },
  {
   "cell_type": "markdown",
   "id": "a6348ade",
   "metadata": {},
   "source": [
    "### Question 5. Most frequent dispatching_base_num ###"
   ]
  },
  {
   "cell_type": "code",
   "execution_count": 231,
   "id": "d11e5123",
   "metadata": {},
   "outputs": [
    {
     "name": "stdout",
     "output_type": "stream",
     "text": [
      "+--------------------+-------+\n",
      "|dispatching_base_num|  count|\n",
      "+--------------------+-------+\n",
      "|              B02510|3233664|\n",
      "+--------------------+-------+\n",
      "only showing top 1 row\n",
      "\n"
     ]
    }
   ],
   "source": [
    "df_time.groupBy(\"dispatching_base_num\").count().orderBy(\"count\", ascending=False).show(1)"
   ]
  },
  {
   "cell_type": "markdown",
   "id": "243d0abf",
   "metadata": {},
   "source": [
    "### Question 6. Most common locations pair ###"
   ]
  },
  {
   "cell_type": "code",
   "execution_count": 175,
   "id": "2d61112c",
   "metadata": {},
   "outputs": [
    {
     "data": {
      "text/plain": [
       "11613942"
      ]
     },
     "execution_count": 175,
     "metadata": {},
     "output_type": "execute_result"
    }
   ],
   "source": [
    "df_time.count()"
   ]
  },
  {
   "cell_type": "markdown",
   "id": "884163b0",
   "metadata": {},
   "source": [
    "df_zone= spark.read.parquet('zones/')"
   ]
  },
  {
   "cell_type": "markdown",
   "id": "3ce79dbb",
   "metadata": {},
   "source": [
    "df_time.filter(df_time.PULocationID == df_time.DOLocationID).show(1)\n",
    "\n",
    "df_zone.filter(df_zone.LocationID == '192').show()\n"
   ]
  },
  {
   "cell_type": "code",
   "execution_count": 176,
   "id": "0b14cebc",
   "metadata": {},
   "outputs": [],
   "source": [
    "df_time.createOrReplaceTempView('fhv_trips')"
   ]
  },
  {
   "cell_type": "code",
   "execution_count": 178,
   "id": "7078601f",
   "metadata": {},
   "outputs": [],
   "source": [
    "df_zone.createOrReplaceTempView('taxi_zone')"
   ]
  },
  {
   "cell_type": "code",
   "execution_count": 219,
   "id": "74c118b3",
   "metadata": {},
   "outputs": [
    {
     "name": "stdout",
     "output_type": "stream",
     "text": [
      "+------------+-------------------+\n",
      "|PULocationID|count(PULocationID)|\n",
      "+------------+-------------------+\n",
      "|          76|              45041|\n",
      "+------------+-------------------+\n",
      "\n"
     ]
    }
   ],
   "source": [
    "\n",
    "spark.sql(\"\"\"\n",
    "SELECT PULocationID, count(PULocationID)\n",
    "   \n",
    "FROM\n",
    "    fhv_trips\n",
    "where PULocationID=DOLocationID\n",
    "group by PULocationID\n",
    "order by count(PULocationID) desc limit 1\n",
    "\n",
    "\"\"\").show()"
   ]
  },
  {
   "cell_type": "markdown",
   "id": "27707cb1",
   "metadata": {},
   "source": [
    "#### solve with spark sql ####"
   ]
  },
  {
   "cell_type": "code",
   "execution_count": 217,
   "id": "446ef544",
   "metadata": {},
   "outputs": [
    {
     "name": "stderr",
     "output_type": "stream",
     "text": [
      "\r",
      "[Stage 164:==================>                                     (4 + 8) / 12]\r"
     ]
    },
    {
     "name": "stdout",
     "output_type": "stream",
     "text": [
      "+------------+------------+---------------------------+-----+\n",
      "|PULocationID|DOLocationID|PU_DO_Pair                 |Total|\n",
      "+------------+------------+---------------------------+-----+\n",
      "|76          |76          |East New York/East New York|45041|\n",
      "+------------+------------+---------------------------+-----+\n",
      "\n"
     ]
    },
    {
     "name": "stderr",
     "output_type": "stream",
     "text": [
      "\r",
      "[Stage 164:=============================================>         (10 + 2) / 12]\r",
      "\r",
      "                                                                                \r"
     ]
    }
   ],
   "source": [
    "spark.sql(\"\"\"\n",
    "with cte as (\n",
    "select Y.PULocationID, Y.DOLocationID,\n",
    "CONCAT(D.Zone, '/', P.Zone) As PU_DO_Pair\n",
    "from fhv_trips Y\n",
    "join taxi_zone D on D.LocationID = Y.PULocationID\n",
    "join taxi_zone P on P.LocationID = Y.DOLocationID\n",
    ")\n",
    "select PULocationID, DOLocationID, PU_DO_Pair, count(PU_DO_Pair) as Total from cte\n",
    "group by PULocationID, DOLocationID, pu_do_pair\n",
    "order by Total  desc limit 1\n",
    "\"\"\").show(truncate=False)"
   ]
  },
  {
   "cell_type": "markdown",
   "id": "f188800c",
   "metadata": {},
   "source": [
    "#### Solve with pyspark ####"
   ]
  },
  {
   "cell_type": "code",
   "execution_count": 213,
   "id": "f2077c38",
   "metadata": {},
   "outputs": [],
   "source": [
    "df_join = df_time.alias(\"main\").join(df_zone.alias(\"zone1\"), \\\n",
    "        col(\"main.PULocationID\") == col(\"zone1.LocationID\"),\"inner\") \\\n",
    "        .join(df_zone.alias(\"zone2\"), \\\n",
    "         col(\"main.DOLocationID\") == col(\"zone2.LocationID\"),\"inner\") \\\n",
    "        .select(\"PULocationID\",\"DOLocationID\", concat_ws(' / ', col(\"zone1.zone\"), col(\"zone2.zone\")).alias(\"PU_DO_Pair\")) \\\n",
    "        #.show(truncate = False)\n"
   ]
  },
  {
   "cell_type": "code",
   "execution_count": 216,
   "id": "d618ae5c",
   "metadata": {},
   "outputs": [
    {
     "name": "stderr",
     "output_type": "stream",
     "text": [
      "\r",
      "[Stage 160:================================>                       (7 + 5) / 12]\r"
     ]
    },
    {
     "name": "stdout",
     "output_type": "stream",
     "text": [
      "+-----------------------------+-----+\n",
      "|PU_DO_Pair                   |count|\n",
      "+-----------------------------+-----+\n",
      "|East New York / East New York|45041|\n",
      "+-----------------------------+-----+\n",
      "only showing top 1 row\n",
      "\n"
     ]
    },
    {
     "name": "stderr",
     "output_type": "stream",
     "text": [
      "\r",
      "[Stage 160:=============================================>         (10 + 2) / 12]\r",
      "\r",
      "                                                                                \r"
     ]
    }
   ],
   "source": [
    "df_join.groupBy(\"PU_DO_Pair\").count().orderBy(\"count\", ascending=False).show(n=1, truncate = False)"
   ]
  },
  {
   "cell_type": "code",
   "execution_count": null,
   "id": "ad464048",
   "metadata": {},
   "outputs": [],
   "source": []
  }
 ],
 "metadata": {
  "kernelspec": {
   "display_name": "Python 3 (ipykernel)",
   "language": "python",
   "name": "python3"
  },
  "language_info": {
   "codemirror_mode": {
    "name": "ipython",
    "version": 3
   },
   "file_extension": ".py",
   "mimetype": "text/x-python",
   "name": "python",
   "nbconvert_exporter": "python",
   "pygments_lexer": "ipython3",
   "version": "3.9.7"
  }
 },
 "nbformat": 4,
 "nbformat_minor": 5
}
